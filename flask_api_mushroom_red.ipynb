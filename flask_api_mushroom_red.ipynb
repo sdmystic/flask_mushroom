{
 "cells": [
  {
   "cell_type": "code",
   "execution_count": 36,
   "id": "829003a1",
   "metadata": {},
   "outputs": [],
   "source": [
    "from flask import Flask, request, jsonify, redirect, url_for\n",
    "\n",
    "import pickle\n",
    "import json\n",
    "import numpy as np\n",
    "import pandas as pd\n",
    "\n",
    "import matplotlib.pyplot as plt\n",
    "import seaborn as sns\n"
   ]
  },
  {
   "cell_type": "code",
   "execution_count": 3,
   "id": "9694380b",
   "metadata": {},
   "outputs": [
    {
     "data": {
      "text/html": [
       "<div>\n",
       "<style scoped>\n",
       "    .dataframe tbody tr th:only-of-type {\n",
       "        vertical-align: middle;\n",
       "    }\n",
       "\n",
       "    .dataframe tbody tr th {\n",
       "        vertical-align: top;\n",
       "    }\n",
       "\n",
       "    .dataframe thead th {\n",
       "        text-align: right;\n",
       "    }\n",
       "</style>\n",
       "<table border=\"1\" class=\"dataframe\">\n",
       "  <thead>\n",
       "    <tr style=\"text-align: right;\">\n",
       "      <th></th>\n",
       "      <th>odor_a</th>\n",
       "      <th>odor_c</th>\n",
       "      <th>odor_f</th>\n",
       "      <th>odor_l</th>\n",
       "      <th>odor_m</th>\n",
       "      <th>odor_n</th>\n",
       "      <th>odor_p</th>\n",
       "      <th>odor_s</th>\n",
       "      <th>odor_y</th>\n",
       "      <th>gill-size_b</th>\n",
       "      <th>...</th>\n",
       "      <th>bruises_f</th>\n",
       "      <th>bruises_t</th>\n",
       "      <th>gill-spacing_c</th>\n",
       "      <th>gill-spacing_w</th>\n",
       "      <th>population_a</th>\n",
       "      <th>population_c</th>\n",
       "      <th>population_n</th>\n",
       "      <th>population_s</th>\n",
       "      <th>population_v</th>\n",
       "      <th>population_y</th>\n",
       "    </tr>\n",
       "  </thead>\n",
       "  <tbody>\n",
       "    <tr>\n",
       "      <th>0</th>\n",
       "      <td>0.0</td>\n",
       "      <td>0.0</td>\n",
       "      <td>0.0</td>\n",
       "      <td>0.0</td>\n",
       "      <td>0.0</td>\n",
       "      <td>0.0</td>\n",
       "      <td>1.0</td>\n",
       "      <td>0.0</td>\n",
       "      <td>0.0</td>\n",
       "      <td>0.0</td>\n",
       "      <td>...</td>\n",
       "      <td>0.0</td>\n",
       "      <td>1.0</td>\n",
       "      <td>1.0</td>\n",
       "      <td>0.0</td>\n",
       "      <td>0.0</td>\n",
       "      <td>0.0</td>\n",
       "      <td>0.0</td>\n",
       "      <td>1.0</td>\n",
       "      <td>0.0</td>\n",
       "      <td>0.0</td>\n",
       "    </tr>\n",
       "  </tbody>\n",
       "</table>\n",
       "<p>1 rows × 55 columns</p>\n",
       "</div>"
      ],
      "text/plain": [
       "   odor_a  odor_c  odor_f  odor_l  odor_m  odor_n  odor_p  odor_s  odor_y  \\\n",
       "0     0.0     0.0     0.0     0.0     0.0     0.0     1.0     0.0     0.0   \n",
       "\n",
       "   gill-size_b  ...  bruises_f  bruises_t  gill-spacing_c  gill-spacing_w  \\\n",
       "0          0.0  ...        0.0        1.0             1.0             0.0   \n",
       "\n",
       "   population_a  population_c  population_n  population_s  population_v  \\\n",
       "0           0.0           0.0           0.0           1.0           0.0   \n",
       "\n",
       "   population_y  \n",
       "0           0.0  \n",
       "\n",
       "[1 rows x 55 columns]"
      ]
     },
     "metadata": {},
     "output_type": "display_data"
    }
   ],
   "source": [
    "fillna_vals = pd.read_csv('fillna_vals_red.csv')\n",
    "display(fillna_vals)"
   ]
  },
  {
   "cell_type": "code",
   "execution_count": 4,
   "id": "b904de4c",
   "metadata": {},
   "outputs": [],
   "source": [
    "with open('feat_dicts.json') as json_file:\n",
    "    feat_dicts = json.load(json_file) "
   ]
  },
  {
   "cell_type": "code",
   "execution_count": 5,
   "id": "1b1b4952",
   "metadata": {},
   "outputs": [
    {
     "data": {
      "text/plain": [
       "{'cap-shape': {'b': 'bell',\n",
       "  'c': 'conical',\n",
       "  'x': 'convex',\n",
       "  'f': 'flat',\n",
       "  'k': 'knobbed',\n",
       "  's': 'sunken'},\n",
       " 'cap-surface': {'f': 'fibrous', 'g': 'grooves', 'y': 'scaly', 's': 'smooth'},\n",
       " 'cap-color': {'n': 'brown',\n",
       "  'b': 'buff',\n",
       "  'c': 'cinnamon',\n",
       "  'g': 'gray',\n",
       "  'r': 'green',\n",
       "  'p': 'pink',\n",
       "  'u': 'purple',\n",
       "  'e': 'red',\n",
       "  'w': 'white',\n",
       "  'y': 'yellow'},\n",
       " 'bruises': {'t': 'bruises', 'f': 'no'},\n",
       " 'odor': {'a': 'almond',\n",
       "  'l': 'anise',\n",
       "  'c': 'creosote',\n",
       "  'y': 'fishy',\n",
       "  'f': 'foul',\n",
       "  'm': 'musty',\n",
       "  'n': 'none',\n",
       "  'p': 'pungent',\n",
       "  's': 'spicy'},\n",
       " 'gill-attachment': {'a': 'attached',\n",
       "  'd': 'descending',\n",
       "  'f': 'free',\n",
       "  'n': 'notched'},\n",
       " 'gill-spacing': {'c': 'close', 'w': 'crowded', 'd': 'distant'},\n",
       " 'gill-size': {'b': 'broad', 'n': 'narrow'},\n",
       " 'gill-color': {'k': 'black',\n",
       "  'n': 'brown',\n",
       "  'b': 'buff',\n",
       "  'h': 'chocolate',\n",
       "  'g': 'gray',\n",
       "  'r': 'green',\n",
       "  'o': 'orange',\n",
       "  'p': 'pink',\n",
       "  'u': 'purple',\n",
       "  'e': 'red',\n",
       "  'w': 'white',\n",
       "  'y': 'yellow'},\n",
       " 'stalk-shape': {'e': 'enlarging', 't': 'tapering'},\n",
       " 'stalk-root': {'b': 'bulbous',\n",
       "  'c': 'club',\n",
       "  'u': 'cup',\n",
       "  'e': 'equal',\n",
       "  'z': 'rhizomorphs',\n",
       "  'r': 'rooted',\n",
       "  '?': 'missing'},\n",
       " 'stalk-surface-above-ring': {'f': 'fibrous',\n",
       "  'y': 'scaly',\n",
       "  'k': 'silky',\n",
       "  's': 'smooth'},\n",
       " 'stalk-surface-below-ring': {'f': 'fibrous',\n",
       "  'y': 'scaly',\n",
       "  'k': 'silky',\n",
       "  's': 'smooth'},\n",
       " 'stalk-color-above-ring': {'n': 'brown',\n",
       "  'b': 'buff',\n",
       "  'c': 'cinnamon',\n",
       "  'g': 'gray',\n",
       "  'o': 'orange',\n",
       "  'p': 'pink',\n",
       "  'e': 'red',\n",
       "  'w': 'white',\n",
       "  'y': 'yellow'},\n",
       " 'stalk-color-below-ring': {'n': 'brown',\n",
       "  'b': 'buff',\n",
       "  'c': 'cinnamon',\n",
       "  'g': 'gray',\n",
       "  'o': 'orange',\n",
       "  'p': 'pink',\n",
       "  'e': 'red',\n",
       "  'w': 'white',\n",
       "  'y': 'yellow'},\n",
       " 'veil-type': {'p': 'partial', 'u': 'universal'},\n",
       " 'veil-color': {'n': 'brown', 'o': 'orange', 'w': 'white', 'y': 'yellow'},\n",
       " 'ring-number': {'n': 'none', 'o': 'one', 't': 'two'},\n",
       " 'ring-type': {'c': 'cobwebby',\n",
       "  'e': 'evanescent',\n",
       "  'f': 'flaring',\n",
       "  'l': 'large',\n",
       "  'n': 'none',\n",
       "  'p': 'pendant',\n",
       "  's': 'sheathing',\n",
       "  'z': 'zone'},\n",
       " 'spore-print-color': {'k': 'black',\n",
       "  'n': 'brown',\n",
       "  'b': 'buff',\n",
       "  'h': 'chocolate',\n",
       "  'r': 'green',\n",
       "  'o': 'orange',\n",
       "  'u': 'purple',\n",
       "  'w': 'white',\n",
       "  'y': 'yellow'},\n",
       " 'population': {'a': 'abundant',\n",
       "  'c': 'clustered',\n",
       "  'n': 'numerous',\n",
       "  's': 'scattered',\n",
       "  'v': 'several',\n",
       "  'y': 'solitary'},\n",
       " 'habitat': {'g': 'grasses',\n",
       "  'l': 'leaves',\n",
       "  'm': 'meadows',\n",
       "  'p': 'paths',\n",
       "  'u': 'urban',\n",
       "  'w': 'waste',\n",
       "  'd': 'woods'}}"
      ]
     },
     "execution_count": 5,
     "metadata": {},
     "output_type": "execute_result"
    }
   ],
   "source": [
    "feat_dicts"
   ]
  },
  {
   "cell_type": "code",
   "execution_count": 42,
   "id": "32760e1f",
   "metadata": {},
   "outputs": [],
   "source": [
    "kt = tuple(feat_dicts.keys())"
   ]
  },
  {
   "cell_type": "code",
   "execution_count": 45,
   "id": "84688ed2",
   "metadata": {},
   "outputs": [
    {
     "data": {
      "text/plain": [
       "{'c': 'cobwebby',\n",
       " 'e': 'evanescent',\n",
       " 'f': 'flaring',\n",
       " 'l': 'large',\n",
       " 'n': 'none',\n",
       " 'p': 'pendant',\n",
       " 's': 'sheathing',\n",
       " 'z': 'zone'}"
      ]
     },
     "execution_count": 45,
     "metadata": {},
     "output_type": "execute_result"
    }
   ],
   "source": [
    "feat_dicts['ring-type']"
   ]
  },
  {
   "cell_type": "code",
   "execution_count": 7,
   "id": "a17c14f7",
   "metadata": {},
   "outputs": [
    {
     "data": {
      "text/plain": [
       "0.0"
      ]
     },
     "execution_count": 7,
     "metadata": {},
     "output_type": "execute_result"
    }
   ],
   "source": [
    "fillna_vals['odor_f'].values[0]"
   ]
  },
  {
   "cell_type": "code",
   "execution_count": 8,
   "id": "c2d3cec9",
   "metadata": {},
   "outputs": [
    {
     "data": {
      "text/plain": [
       "'http://127.0.0.1:5000/mushroom/?odor=p&gill-size=n&ring-type=p&stalk-surface-below-ring=s&stalk-surface-above-ring=s&spore-print-color=k&gill-color=k&bruises=t&gill-spacing=c&population=s'"
      ]
     },
     "execution_count": 8,
     "metadata": {},
     "output_type": "execute_result"
    }
   ],
   "source": [
    "url = 'http://127.0.0.1:5000/mushroom/?'\n",
    "for c in fillna_vals.columns:\n",
    "    if fillna_vals[c].values[0]==1:\n",
    "        s = str(c).split(sep='_')\n",
    "        url += s[0]\n",
    "        url += \"=\"\n",
    "        url += s[1]\n",
    "        url += \"&\"\n",
    "url = url[:-1]\n",
    "\n",
    "url\n",
    "    "
   ]
  },
  {
   "cell_type": "code",
   "execution_count": 9,
   "id": "555591e2",
   "metadata": {},
   "outputs": [],
   "source": [
    "important_cols = ['odor', 'gill-size', 'ring-type', 'stalk-surface-below-ring','stalk-surface-above-ring', 'spore-print-color', 'gill-color','bruises', 'gill-spacing', 'population']"
   ]
  },
  {
   "cell_type": "code",
   "execution_count": 29,
   "id": "006e2348",
   "metadata": {},
   "outputs": [],
   "source": [
    "def build_static_form(feat_dict):\n",
    "  action = 'process_form'\n",
    "  html =  f'<body>\\n\\\n",
    "    <h1>Choose features values</h1>\\n\\\n",
    "    <form action=\"{action}\" method=\"POST\">\\n\\\n",
    "      <label for=\"name\">MushroomFeatures</label>\\n\\\n",
    "        '\n",
    "\n",
    "  for c in important_cols:\n",
    "\n",
    "      html += f'  <fieldset>\\n\\\n",
    "            <legend>{str(c)}</legend>\\n\\\n",
    "            '\n",
    "      for i, (k, v) in enumerate(feat_dicts[c].items()):\n",
    "\n",
    "        html += f'<div>\\n\\\n",
    "                <input type=\"radio\" id={str(c)+\"_\"+str(k)} name={str(c)} value={str(k)} checked>\\n\\\n",
    "                <label for={str(k)}>{str(v)}</label>\\n\\\n",
    "            </div>\\n\\\n",
    "          \\\n",
    "    '\n",
    "      html +='\\n\\\n",
    "          </fieldset>\\n\\\n",
    "    '\n",
    "  html += '<input type=\"submit\" value=\"Submit\" id=\"submit\">\\n'\n",
    "  html += '</form>\\n\\\n",
    "  </body>'\n",
    "  return html"
   ]
  },
  {
   "cell_type": "code",
   "execution_count": 40,
   "id": "86df0785",
   "metadata": {},
   "outputs": [],
   "source": [
    "app = Flask(__name__)\n",
    "\n",
    "model_from_disk = pickle.load(open('model_red.pkl','rb'))\n",
    "ohe_from_disk = pickle.load(open('ohe_red.pkl','rb'))\n",
    "\n",
    "@app.route('/')\n",
    "def home():\n",
    "    #txt = f'Welcome \\\n",
    "    #    Example url: {url} \\\n",
    "    #    '\n",
    "    return build_static_form(feat_dicts)\n",
    "\n",
    "@app.route('/mushroom/')\n",
    "def give_mushroom_predict():\n",
    "    \n",
    "    a = []\n",
    "    for c in important_cols:\n",
    "        a.append(request.args.get(str(c)))\n",
    "    \n",
    "    # faire un dataframe avec la requête\n",
    "    raw_input = pd.DataFrame(np.array(a).reshape(1,-1))\n",
    "    raw_input.columns = important_cols\n",
    "\n",
    "    # traduire le dataframe selon onehotoncoder sur disque\n",
    "    model_cols = model_from_disk.feature_names_in_\n",
    "    new_data = pd.DataFrame(ohe_from_disk.transform(raw_input))\n",
    "    new_data.columns = model_cols\n",
    "\n",
    "    # faire une prediction\n",
    "    #pred = model_from_disk.predict(fillna_vals)\n",
    "    pred = model_from_disk.predict(new_data)\n",
    "    \n",
    "    # mettre en json le resultat de la prediction\n",
    "    dict_pred = {'class':pred[0]}\n",
    "    json_object = json.dumps(dict_pred, indent = 4) \n",
    "\n",
    "    return jsonify(dict_pred)\n",
    "\n",
    "@app.route('/process_form', methods=['POST'])\n",
    "def process_form():\n",
    "    \n",
    "    params = {}\n",
    "    for c in important_cols:\n",
    "        params[c] = request.form[c]\n",
    "\n",
    "    return redirect(url_for(\"predict\", **params))\n",
    "\n",
    "@app.route(\"/predict\")\n",
    "def predict():\n",
    "\n",
    "    a = []\n",
    "    for c in important_cols:\n",
    "        a.append(request.args.get(str(c)))\n",
    "    \n",
    "    # faire un dataframe avec la requête\n",
    "    raw_input = pd.DataFrame(np.array(a).reshape(1,-1))\n",
    "    raw_input.columns = important_cols\n",
    "\n",
    "    # traduire le dataframe selon onehotoncoder sur disque\n",
    "    model_cols = model_from_disk.feature_names_in_\n",
    "    new_data = pd.DataFrame(ohe_from_disk.transform(raw_input))\n",
    "    new_data.columns = model_cols\n",
    "\n",
    "    # faire une prediction\n",
    "    #pred = model_from_disk.predict(fillna_vals)\n",
    "    pred = model_from_disk.predict(new_data)\n",
    "    \n",
    "    # mettre en json le resultat de la prediction\n",
    "    dict_pred = {'class':pred[0]}\n",
    "    json_object = json.dumps(dict_pred, indent = 4) \n",
    "\n",
    "    return jsonify(dict_pred)\n",
    "    "
   ]
  },
  {
   "cell_type": "code",
   "execution_count": 46,
   "id": "3842a4e3",
   "metadata": {},
   "outputs": [
    {
     "name": "stdout",
     "output_type": "stream",
     "text": [
      " * Serving Flask app \"__main__\" (lazy loading)\n",
      " * Environment: production\n",
      "\u001b[31m   WARNING: This is a development server. Do not use it in a production deployment.\u001b[0m\n",
      "\u001b[2m   Use a production WSGI server instead.\u001b[0m\n",
      " * Debug mode: off\n"
     ]
    },
    {
     "name": "stderr",
     "output_type": "stream",
     "text": [
      " * Running on http://127.0.0.1:5000/ (Press CTRL+C to quit)\n",
      "127.0.0.1 - - [30/Jul/2023 16:52:43] \"GET / HTTP/1.1\" 200 -\n",
      "127.0.0.1 - - [30/Jul/2023 16:53:09] \"POST /process_form HTTP/1.1\" 302 -\n",
      "127.0.0.1 - - [30/Jul/2023 16:53:09] \"GET /predict?odor=c&gill-size=b&ring-type=l&stalk-surface-below-ring=y&stalk-surface-above-ring=s&spore-print-color=o&gill-color=h&bruises=f&gill-spacing=w&population=n HTTP/1.1\" 200 -\n"
     ]
    }
   ],
   "source": [
    "if __name__ == '__main__':\n",
    "\n",
    "    app.run(port=5000)"
   ]
  }
 ],
 "metadata": {
  "kernelspec": {
   "display_name": "Python 3 (ipykernel)",
   "language": "python",
   "name": "python3"
  },
  "language_info": {
   "codemirror_mode": {
    "name": "ipython",
    "version": 3
   },
   "file_extension": ".py",
   "mimetype": "text/x-python",
   "name": "python",
   "nbconvert_exporter": "python",
   "pygments_lexer": "ipython3",
   "version": "3.9.13"
  }
 },
 "nbformat": 4,
 "nbformat_minor": 5
}
