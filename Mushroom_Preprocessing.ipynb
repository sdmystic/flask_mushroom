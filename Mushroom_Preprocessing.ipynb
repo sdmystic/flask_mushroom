{
 "cells": [
  {
   "cell_type": "code",
   "execution_count": 21,
   "metadata": {},
   "outputs": [],
   "source": [
    "import pandas as pd\n",
    "import numpy as np\n",
    "import pickle\n",
    "\n",
    "from sklearn.preprocessing import OneHotEncoder\n",
    "#from sklearn.pipeline import make_pipeline"
   ]
  },
  {
   "cell_type": "code",
   "execution_count": 11,
   "metadata": {},
   "outputs": [],
   "source": [
    "def mushroom_preprocessing(data: pd.DataFrame, target, cols: []) -> pd.DataFrame:\n",
    "\n",
    "    d0 = data.copy()\n",
    "    drop_cols = d0.columns.copy().to_list()\n",
    "    drop_cols.remove(target)\n",
    "\n",
    "    for c in cols:\n",
    "        drop_cols.remove(c)\n",
    "    \n",
    "    d1 = d0.drop(columns=drop_cols)\n",
    "\n",
    "    return d1"
   ]
  },
  {
   "cell_type": "code",
   "execution_count": 4,
   "metadata": {},
   "outputs": [],
   "source": [
    "### load data\n",
    "data = pd.read_csv('mushrooms.csv')"
   ]
  },
  {
   "cell_type": "code",
   "execution_count": 12,
   "metadata": {},
   "outputs": [],
   "source": [
    "### Important columns\n",
    "important_cols = ['odor', 'gill-size', 'ring-type', 'stalk-surface-below-ring','stalk-surface-above-ring', 'spore-print-color', 'gill-color','bruises', 'gill-spacing', 'population']\n",
    "### target\n",
    "target = 'class'"
   ]
  },
  {
   "cell_type": "code",
   "execution_count": 14,
   "metadata": {},
   "outputs": [],
   "source": [
    "data1 = mushroom_preprocessing(data, target, important_cols)"
   ]
  },
  {
   "cell_type": "code",
   "execution_count": 16,
   "metadata": {},
   "outputs": [],
   "source": [
    "ohe = OneHotEncoder(categories='auto' , sparse=False)"
   ]
  },
  {
   "cell_type": "code",
   "execution_count": 17,
   "metadata": {},
   "outputs": [
    {
     "data": {
      "text/plain": [
       "OneHotEncoder(sparse=False)"
      ]
     },
     "execution_count": 17,
     "metadata": {},
     "output_type": "execute_result"
    }
   ],
   "source": [
    "ohe.fit(data1[important_cols])"
   ]
  },
  {
   "cell_type": "code",
   "execution_count": 19,
   "metadata": {},
   "outputs": [],
   "source": [
    "data2 = pd.DataFrame(ohe.transform(data1[important_cols]))\n",
    "data2.columns=ohe.get_feature_names_out(ohe.feature_names_in_)\n",
    "data2[target]=data1[target]"
   ]
  },
  {
   "cell_type": "code",
   "execution_count": 25,
   "metadata": {},
   "outputs": [],
   "source": [
    "# exports\n",
    "data2.to_csv('mushrooms_red_pp.csv', index=False)\n",
    "pickle.dump(ohe, open('ohe_red.pkl','wb'))"
   ]
  }
 ],
 "metadata": {
  "kernelspec": {
   "display_name": "base",
   "language": "python",
   "name": "python3"
  },
  "language_info": {
   "codemirror_mode": {
    "name": "ipython",
    "version": 3
   },
   "file_extension": ".py",
   "mimetype": "text/x-python",
   "name": "python",
   "nbconvert_exporter": "python",
   "pygments_lexer": "ipython3",
   "version": "3.9.13"
  },
  "orig_nbformat": 4
 },
 "nbformat": 4,
 "nbformat_minor": 2
}
